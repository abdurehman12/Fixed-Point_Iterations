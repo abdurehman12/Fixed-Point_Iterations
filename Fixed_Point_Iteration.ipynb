{
  "nbformat": 4,
  "nbformat_minor": 0,
  "metadata": {
    "colab": {
      "name": "Fixed Point Iteration.ipynb",
      "provenance": []
    },
    "kernelspec": {
      "name": "python3",
      "display_name": "Python 3"
    },
    "language_info": {
      "name": "python"
    }
  },
  "cells": [
    {
      "cell_type": "code",
      "metadata": {
        "colab": {
          "base_uri": "https://localhost:8080/",
          "height": 1000
        },
        "id": "pWy1dr-d3fgn",
        "outputId": "3f7b217a-bd42-4087-866f-03e4b3a6e6ae"
      },
      "source": [
        "from math import exp as e\n",
        "from math import cos as cos\n",
        "import math\n",
        "from sympy import *\n",
        "from math import *\n",
        "from __future__ import division\n",
        "from sympy import *\n",
        "import matplotlib.pyplot as plt\n",
        "import numpy as np\n",
        "import time\n",
        "\n",
        "\n",
        "'''In this part of the code we are taking the initial guess, tolerance and our function as input.\n",
        "And also calculating the corresponding g(x) of our function.'''\n",
        "start_time = time.time()\n",
        "initial_guess= input(\"enter initial guess: \")\n",
        "tolerence = input(\"Enter tolerence value: \")\n",
        "fx = '(exp(x) + 2**-x+ 2*cos(x) - 6)'\n",
        "#fx = input(\"Enter a polynomial: \")\n",
        "gx = '(log(6-2**-x - 2*cos(x)))'\n",
        "g = lambda x: eval(gx)\n",
        "f= lambda x: eval(fx)\n",
        "x=Symbol('x')\n",
        "f1=(g(float(initial_guess)))\n",
        "print(g(float(initial_guess)))\n",
        "x=symbols('x')\n",
        "print(f1)\n",
        "tol=float(eval(tolerence))\n",
        "counter=0\n",
        "y_values=f(float(initial_guess))\n",
        "values = [float(initial_guess)]\n",
        "correspoing_y= [y_values]\n",
        "\n",
        "while abs((float(f1) - float(initial_guess))/float(initial_guess)) >= tol:\n",
        "  if counter>0:\n",
        "    initial_guess=f1\n",
        "  f1=g(float(initial_guess))\n",
        "  y_values=f(float(f1))\n",
        "  values.append(f1)\n",
        "  correspoing_y.append(y_values)\n",
        "  print(\"px  = \" + str(f1))\n",
        "  counter+=1\n",
        "\n",
        "\n",
        "'''In this part of the code we are printing the graph of our values in the specified domain.\n",
        "For this Question that is [1,2] '''\n",
        "t=[1,1.1,1.2,1.3,1.4,1.5,1.6,1.7,1.8,1.9,2]\n",
        "graphing_values=[]\n",
        "for value in t:\n",
        "  graphing_values.append(f(float(value)))\n",
        "print(t)\n",
        "print(graphing_values)\n",
        "x_points=np.array(values)\n",
        "y_points = np.array(correspoing_y)\n",
        "plt.figure\n",
        "plt.plot(t,graphing_values,marker=\"^\")\n",
        "plt.title(\"Fixed Point Method Iterations\")\n",
        "plt.xlabel(\"P values\")\n",
        "plt.ylabel(\"F(x)\")\n",
        "plt.show()\n",
        "\n",
        "\n",
        "'''In this part of the code all our P values and its corresponding f(x) values \n",
        "are being store in a txt file.'''\n",
        "\n",
        "file2 = open(\"Fixed Point Method.txt\",\"w\")\n",
        "file2.write(\"Number of iteration                 \" + \"Roots Approximation                                                           \" +\"   F(x)                                       \" + \"  Convergence\" + \"\\n\"  )\n",
        "for i in range(len(values)-1):\n",
        "  file2.write(str(i) +\"                                    \")\n",
        "  file2.write(  str(values[i]) +\"                                                             \" )\n",
        "  file2.write(str(correspoing_y[i])+  \"                   \" )\n",
        "  file2.write(str(abs((values[i+1]-values[-1])/(math.pow((values[i]-values[-1]),1))))+ \"\\n\")\n",
        "file2.write(\"The total number of iterations needed are \" + str(len(values)-1) + \"\\n\")\n",
        "file2.write(\"The root is \" + str(values[-1]))\n",
        "\n",
        "'''In this part of the code we are printing our root, our number of iterations needed\n",
        "to reach the root and our convergance CPU time.'''\n",
        "print(\"The root is \" + str(float(initial_guess)))\n",
        "print(\"number of iterations are \" +str(counter))\n",
        "print(\"--- %s seconds --- is the convergence time\" % (time.time() - start_time))"
      ],
      "execution_count": 1,
      "outputs": [
        {
          "output_type": "stream",
          "name": "stdout",
          "text": [
            "enter initial guess: 1\n",
            "Enter tolerence value: 10**-20\n",
            "1.48600289674742\n",
            "1.48600289674742\n",
            "px  = 1.48600289674742\n",
            "px  = 1.69993945986439\n",
            "px  = 1.78335254616606\n",
            "px  = 1.81342490736278\n",
            "px  = 1.82390317790082\n",
            "px  = 1.82750786194497\n",
            "px  = 1.82874235233629\n",
            "px  = 1.82916446847475\n",
            "px  = 1.82930872791622\n",
            "px  = 1.82935802000048\n",
            "px  = 1.82937486158672\n",
            "px  = 1.82938061571496\n",
            "px  = 1.82938258166697\n",
            "px  = 1.82938325335128\n",
            "px  = 1.82938348283777\n",
            "px  = 1.82938356124371\n",
            "px  = 1.82938358803173\n",
            "px  = 1.82938359718408\n",
            "px  = 1.82938360031105\n",
            "px  = 1.82938360137941\n",
            "px  = 1.82938360174442\n",
            "px  = 1.82938360186913\n",
            "px  = 1.82938360191174\n",
            "px  = 1.82938360192629\n",
            "px  = 1.82938360193127\n",
            "px  = 1.82938360193297\n",
            "px  = 1.82938360193355\n",
            "px  = 1.82938360193375\n",
            "px  = 1.82938360193381\n",
            "px  = 1.82938360193384\n",
            "px  = 1.82938360193384\n",
            "px  = 1.82938360193385\n",
            "px  = 1.82938360193385\n",
            "px  = 1.82938360193385\n",
            "px  = 1.82938360193385\n",
            "px  = 1.82938360193385\n",
            "[1, 1.1, 1.2, 1.3, 1.4, 1.5, 1.6, 1.7, 1.8, 1.9, 2]\n",
            "[-1.70111355980467, -1.62212523743401, -1.51989228666204, -1.38957947695346, -1.22593660572724, -1.02328313573326, -0.775489642514239, -0.475955493527620, -0.117582136223970, 0.307258674186335, 0.806762425836365]\n"
          ]
        },
        {
          "output_type": "display_data",
          "data": {
            "image/png": "[encoded data removed]",
            "text/plain": [
              "<Figure size 432x288 with 1 Axes>"
            ]
          },
          "metadata": {
            "needs_background": "light"
          }
        },
        {
          "output_type": "stream",
          "name": "stdout",
          "text": [
            "The root is 1.8293836019338487\n",
            "number of iterations are 36\n",
            "--- 13.386961698532104 seconds --- is the convergence time\n"
          ]
        }
      ]
    },
    {
      "cell_type": "code",
      "metadata": {
        "id": "BduPHk2L3pFm"
      },
      "source": [
        ""
      ],
      "execution_count": null,
      "outputs": []
    }
  ]
}